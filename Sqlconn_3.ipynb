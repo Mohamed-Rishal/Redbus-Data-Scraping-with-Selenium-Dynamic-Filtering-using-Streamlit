{
 "cells": [
  {
   "cell_type": "code",
   "execution_count": 9,
   "metadata": {},
   "outputs": [],
   "source": [
    "#importing libraries\n",
    "import pandas as pd\n",
    "import mysql.connector\n",
    "import numpy as np"
   ]
  },
  {
   "cell_type": "code",
   "execution_count": 10,
   "metadata": {},
   "outputs": [
    {
     "data": {
      "text/html": [
       "<div>\n",
       "<style scoped>\n",
       "    .dataframe tbody tr th:only-of-type {\n",
       "        vertical-align: middle;\n",
       "    }\n",
       "\n",
       "    .dataframe tbody tr th {\n",
       "        vertical-align: top;\n",
       "    }\n",
       "\n",
       "    .dataframe thead th {\n",
       "        text-align: right;\n",
       "    }\n",
       "</style>\n",
       "<table border=\"1\" class=\"dataframe\">\n",
       "  <thead>\n",
       "    <tr style=\"text-align: right;\">\n",
       "      <th></th>\n",
       "      <th>Bus_name</th>\n",
       "      <th>Bus_type</th>\n",
       "      <th>Start_time</th>\n",
       "      <th>End_time</th>\n",
       "      <th>Total_duration</th>\n",
       "      <th>Price</th>\n",
       "      <th>Seats_Available</th>\n",
       "      <th>Ratings</th>\n",
       "      <th>Route_link</th>\n",
       "      <th>Route_name</th>\n",
       "    </tr>\n",
       "  </thead>\n",
       "  <tbody>\n",
       "    <tr>\n",
       "      <th>0</th>\n",
       "      <td>FRESHBUS</td>\n",
       "      <td>Electric A/C Seater (2+2)</td>\n",
       "      <td>04:15</td>\n",
       "      <td>10:30</td>\n",
       "      <td>06h 15m</td>\n",
       "      <td>575</td>\n",
       "      <td>18 Seats available</td>\n",
       "      <td>4.7\\n426</td>\n",
       "      <td>https://www.redbus.in/bus-tickets/hyderabad-to...</td>\n",
       "      <td>Hyderabad to Vijayawada</td>\n",
       "    </tr>\n",
       "    <tr>\n",
       "      <th>1</th>\n",
       "      <td>FRESHBUS</td>\n",
       "      <td>Electric A/C Seater (2+2)</td>\n",
       "      <td>16:00</td>\n",
       "      <td>23:10</td>\n",
       "      <td>07h 10m</td>\n",
       "      <td>550</td>\n",
       "      <td>34 Seats available</td>\n",
       "      <td>4.7\\n395</td>\n",
       "      <td>https://www.redbus.in/bus-tickets/hyderabad-to...</td>\n",
       "      <td>Hyderabad to Vijayawada</td>\n",
       "    </tr>\n",
       "    <tr>\n",
       "      <th>2</th>\n",
       "      <td>FRESHBUS</td>\n",
       "      <td>Electric A/C Seater (2+2)</td>\n",
       "      <td>23:10</td>\n",
       "      <td>05:35</td>\n",
       "      <td>06h 25m</td>\n",
       "      <td>650</td>\n",
       "      <td>24 Seats available</td>\n",
       "      <td>4.6\\n498</td>\n",
       "      <td>https://www.redbus.in/bus-tickets/hyderabad-to...</td>\n",
       "      <td>Hyderabad to Vijayawada</td>\n",
       "    </tr>\n",
       "    <tr>\n",
       "      <th>3</th>\n",
       "      <td>IntrCity SmartBus</td>\n",
       "      <td>Bharat Benz A/C Seater /Sleeper (2+1)</td>\n",
       "      <td>23:50</td>\n",
       "      <td>05:35</td>\n",
       "      <td>05h 45m</td>\n",
       "      <td>INR 704</td>\n",
       "      <td>36 Seats available</td>\n",
       "      <td>4.5\\n948</td>\n",
       "      <td>https://www.redbus.in/bus-tickets/hyderabad-to...</td>\n",
       "      <td>Hyderabad to Vijayawada</td>\n",
       "    </tr>\n",
       "    <tr>\n",
       "      <th>4</th>\n",
       "      <td>FRESHBUS</td>\n",
       "      <td>Electric A/C Seater (2+2)</td>\n",
       "      <td>13:10</td>\n",
       "      <td>19:25</td>\n",
       "      <td>06h 15m</td>\n",
       "      <td>500</td>\n",
       "      <td>40 Seats available</td>\n",
       "      <td>4.6\\n462</td>\n",
       "      <td>https://www.redbus.in/bus-tickets/hyderabad-to...</td>\n",
       "      <td>Hyderabad to Vijayawada</td>\n",
       "    </tr>\n",
       "    <tr>\n",
       "      <th>...</th>\n",
       "      <td>...</td>\n",
       "      <td>...</td>\n",
       "      <td>...</td>\n",
       "      <td>...</td>\n",
       "      <td>...</td>\n",
       "      <td>...</td>\n",
       "      <td>...</td>\n",
       "      <td>...</td>\n",
       "      <td>...</td>\n",
       "      <td>...</td>\n",
       "    </tr>\n",
       "    <tr>\n",
       "      <th>1530</th>\n",
       "      <td>RATNAGIRI TRANSPORT</td>\n",
       "      <td>Bharat Benz A/C Seater /Sleeper (2+1)</td>\n",
       "      <td>21:31</td>\n",
       "      <td>04:30</td>\n",
       "      <td>06h 59m</td>\n",
       "      <td>INR 600</td>\n",
       "      <td>18 Seats available</td>\n",
       "      <td>4.5\\n119</td>\n",
       "      <td>https://www.redbus.in/bus-tickets/guwahati-to-...</td>\n",
       "      <td>Guwahati to Golaghat</td>\n",
       "    </tr>\n",
       "    <tr>\n",
       "      <th>1531</th>\n",
       "      <td>Assam State Transport Corporation (ASTC) - 152649</td>\n",
       "      <td>Bharat Benz A/C Seater (2+2)</td>\n",
       "      <td>06:45</td>\n",
       "      <td>12:00</td>\n",
       "      <td>05h 15m</td>\n",
       "      <td>INR 339</td>\n",
       "      <td>5 Seats available</td>\n",
       "      <td>3.5\\n15</td>\n",
       "      <td>https://www.redbus.in/bus-tickets/jorhat-to-go...</td>\n",
       "      <td>Jorhat to Gogamukh</td>\n",
       "    </tr>\n",
       "    <tr>\n",
       "      <th>1532</th>\n",
       "      <td>Assam State Transport Corporation (ASTC) - 175510</td>\n",
       "      <td>NON A/C Seater Push Back (2+1)</td>\n",
       "      <td>08:45</td>\n",
       "      <td>15:00</td>\n",
       "      <td>06h 15m</td>\n",
       "      <td>INR 390</td>\n",
       "      <td>25 Seats available</td>\n",
       "      <td>3.6</td>\n",
       "      <td>https://www.redbus.in/bus-tickets/dibrugarh-to...</td>\n",
       "      <td>Dibrugarh to Biswanath Charali</td>\n",
       "    </tr>\n",
       "    <tr>\n",
       "      <th>1533</th>\n",
       "      <td>Air Bus Travels</td>\n",
       "      <td>NON AC Seater / Sleeper 2+1</td>\n",
       "      <td>19:40</td>\n",
       "      <td>05:00</td>\n",
       "      <td>09h 20m</td>\n",
       "      <td>INR 600</td>\n",
       "      <td>42 Seats available</td>\n",
       "      <td>3.1\\n45</td>\n",
       "      <td>https://www.redbus.in/bus-tickets/dibrugarh-to...</td>\n",
       "      <td>Dibrugarh to Biswanath Charali</td>\n",
       "    </tr>\n",
       "    <tr>\n",
       "      <th>1534</th>\n",
       "      <td>Assam State Transport Corporation (ASTC) - 152649</td>\n",
       "      <td>Bharat Benz A/C Seater (2+2)</td>\n",
       "      <td>05:45</td>\n",
       "      <td>13:00</td>\n",
       "      <td>07h 15m</td>\n",
       "      <td>INR 503</td>\n",
       "      <td>5 Seats available</td>\n",
       "      <td>3.8\\n21</td>\n",
       "      <td>https://www.redbus.in/bus-tickets/golaghat-to-...</td>\n",
       "      <td>Golaghat to North Lakhimpur</td>\n",
       "    </tr>\n",
       "  </tbody>\n",
       "</table>\n",
       "<p>1535 rows × 10 columns</p>\n",
       "</div>"
      ],
      "text/plain": [
       "                                               Bus_name  \\\n",
       "0                                              FRESHBUS   \n",
       "1                                              FRESHBUS   \n",
       "2                                              FRESHBUS   \n",
       "3                                     IntrCity SmartBus   \n",
       "4                                              FRESHBUS   \n",
       "...                                                 ...   \n",
       "1530                                RATNAGIRI TRANSPORT   \n",
       "1531  Assam State Transport Corporation (ASTC) - 152649   \n",
       "1532  Assam State Transport Corporation (ASTC) - 175510   \n",
       "1533                                    Air Bus Travels   \n",
       "1534  Assam State Transport Corporation (ASTC) - 152649   \n",
       "\n",
       "                                   Bus_type Start_time End_time  \\\n",
       "0                 Electric A/C Seater (2+2)      04:15    10:30   \n",
       "1                 Electric A/C Seater (2+2)      16:00    23:10   \n",
       "2                 Electric A/C Seater (2+2)      23:10    05:35   \n",
       "3     Bharat Benz A/C Seater /Sleeper (2+1)      23:50    05:35   \n",
       "4                 Electric A/C Seater (2+2)      13:10    19:25   \n",
       "...                                     ...        ...      ...   \n",
       "1530  Bharat Benz A/C Seater /Sleeper (2+1)      21:31    04:30   \n",
       "1531           Bharat Benz A/C Seater (2+2)      06:45    12:00   \n",
       "1532         NON A/C Seater Push Back (2+1)      08:45    15:00   \n",
       "1533            NON AC Seater / Sleeper 2+1      19:40    05:00   \n",
       "1534           Bharat Benz A/C Seater (2+2)      05:45    13:00   \n",
       "\n",
       "     Total_duration    Price     Seats_Available   Ratings  \\\n",
       "0           06h 15m      575  18 Seats available  4.7\\n426   \n",
       "1           07h 10m      550  34 Seats available  4.7\\n395   \n",
       "2           06h 25m      650  24 Seats available  4.6\\n498   \n",
       "3           05h 45m  INR 704  36 Seats available  4.5\\n948   \n",
       "4           06h 15m      500  40 Seats available  4.6\\n462   \n",
       "...             ...      ...                 ...       ...   \n",
       "1530        06h 59m  INR 600  18 Seats available  4.5\\n119   \n",
       "1531        05h 15m  INR 339   5 Seats available   3.5\\n15   \n",
       "1532        06h 15m  INR 390  25 Seats available       3.6   \n",
       "1533        09h 20m  INR 600  42 Seats available   3.1\\n45   \n",
       "1534        07h 15m  INR 503   5 Seats available   3.8\\n21   \n",
       "\n",
       "                                             Route_link  \\\n",
       "0     https://www.redbus.in/bus-tickets/hyderabad-to...   \n",
       "1     https://www.redbus.in/bus-tickets/hyderabad-to...   \n",
       "2     https://www.redbus.in/bus-tickets/hyderabad-to...   \n",
       "3     https://www.redbus.in/bus-tickets/hyderabad-to...   \n",
       "4     https://www.redbus.in/bus-tickets/hyderabad-to...   \n",
       "...                                                 ...   \n",
       "1530  https://www.redbus.in/bus-tickets/guwahati-to-...   \n",
       "1531  https://www.redbus.in/bus-tickets/jorhat-to-go...   \n",
       "1532  https://www.redbus.in/bus-tickets/dibrugarh-to...   \n",
       "1533  https://www.redbus.in/bus-tickets/dibrugarh-to...   \n",
       "1534  https://www.redbus.in/bus-tickets/golaghat-to-...   \n",
       "\n",
       "                          Route_name  \n",
       "0            Hyderabad to Vijayawada  \n",
       "1            Hyderabad to Vijayawada  \n",
       "2            Hyderabad to Vijayawada  \n",
       "3            Hyderabad to Vijayawada  \n",
       "4            Hyderabad to Vijayawada  \n",
       "...                              ...  \n",
       "1530            Guwahati to Golaghat  \n",
       "1531              Jorhat to Gogamukh  \n",
       "1532  Dibrugarh to Biswanath Charali  \n",
       "1533  Dibrugarh to Biswanath Charali  \n",
       "1534     Golaghat to North Lakhimpur  \n",
       "\n",
       "[1535 rows x 10 columns]"
      ]
     },
     "execution_count": 10,
     "metadata": {},
     "output_type": "execute_result"
    }
   ],
   "source": [
    "# csv to dataframe\n",
    "df_buses_1=pd.read_csv(r\"F:\\Education and Job\\Guvi\\Redbus_M\\Busdetails_2\\df_buses_1.csv\")\n",
    "df_buses_2=pd.read_csv(r\"F:\\Education and Job\\Guvi\\Redbus_M\\Busdetails_2\\df_buses_2.csv\")\n",
    "df_buses_3=pd.read_csv(r\"F:\\Education and Job\\Guvi\\Redbus_M\\Busdetails_2\\df_buses_3.csv\")\n",
    "df_buses_4=pd.read_csv(r\"F:\\Education and Job\\Guvi\\Redbus_M\\Busdetails_2\\df_buses_4.csv\")\n",
    "df_buses_5=pd.read_csv(r\"F:\\Education and Job\\Guvi\\Redbus_M\\Busdetails_2\\df_buses_5.csv\")\n",
    "df_buses_6=pd.read_csv(r\"F:\\Education and Job\\Guvi\\Redbus_M\\Busdetails_2\\df_buses_6.csv\")\n",
    "df_buses_7=pd.read_csv(r\"F:\\Education and Job\\Guvi\\Redbus_M\\Busdetails_2\\df_buses_7.csv\")\n",
    "df_buses_8=pd.read_csv(r\"F:\\Education and Job\\Guvi\\Redbus_M\\Busdetails_2\\df_buses_8.csv\")\n",
    "df_buses_9=pd.read_csv(r\"F:\\Education and Job\\Guvi\\Redbus_M\\Busdetails_2\\df_buses_9.csv\")\n",
    "df_buses_10=pd.read_csv(r\"F:\\Education and Job\\Guvi\\Redbus_M\\Busdetails_2\\df_buses_10.csv\")\n",
    "\n",
    "Final_df=pd.concat([df_buses_1,df_buses_2,df_buses_3,df_buses_4,df_buses_5,df_buses_6,\n",
    "                    df_buses_7,df_buses_8,df_buses_9,df_buses_10],ignore_index=True)\n",
    "Final_df"
   ]
  },
  {
   "cell_type": "markdown",
   "metadata": {},
   "source": [
    "Data Cleaning"
   ]
  },
  {
   "cell_type": "code",
   "execution_count": 11,
   "metadata": {},
   "outputs": [
    {
     "name": "stdout",
     "output_type": "stream",
     "text": [
      "<class 'pandas.core.frame.DataFrame'>\n",
      "RangeIndex: 1535 entries, 0 to 1534\n",
      "Data columns (total 10 columns):\n",
      " #   Column           Non-Null Count  Dtype \n",
      "---  ------           --------------  ----- \n",
      " 0   Bus_name         1535 non-null   object\n",
      " 1   Bus_type         1535 non-null   object\n",
      " 2   Start_time       1535 non-null   object\n",
      " 3   End_time         1535 non-null   object\n",
      " 4   Total_duration   1535 non-null   object\n",
      " 5   Price            1535 non-null   object\n",
      " 6   Seats_Available  1535 non-null   object\n",
      " 7   Ratings          1535 non-null   object\n",
      " 8   Route_link       1535 non-null   object\n",
      " 9   Route_name       1535 non-null   object\n",
      "dtypes: object(10)\n",
      "memory usage: 120.1+ KB\n"
     ]
    }
   ],
   "source": [
    "# data about the data\n",
    "Final_df.info()"
   ]
  },
  {
   "cell_type": "code",
   "execution_count": 12,
   "metadata": {},
   "outputs": [
    {
     "data": {
      "text/plain": [
       "0       575.0\n",
       "1       550.0\n",
       "2       650.0\n",
       "3       704.0\n",
       "4       500.0\n",
       "        ...  \n",
       "1530    600.0\n",
       "1531    339.0\n",
       "1532    390.0\n",
       "1533    600.0\n",
       "1534    503.0\n",
       "Name: Price, Length: 1535, dtype: float64"
      ]
     },
     "execution_count": 12,
     "metadata": {},
     "output_type": "execute_result"
    }
   ],
   "source": [
    "#convert prices to numeric\n",
    "Final_df[\"Price\"]=Final_df[\"Price\"].str.replace(\"INR\",\"\")\n",
    "Final_df[\"Price\"]=Final_df[\"Price\"].astype(float)\n",
    "Final_df[\"Price\"].fillna(0) "
   ]
  },
  {
   "cell_type": "code",
   "execution_count": 13,
   "metadata": {},
   "outputs": [
    {
     "name": "stderr",
     "output_type": "stream",
     "text": [
      "C:\\Users\\91843\\AppData\\Local\\Temp\\ipykernel_20012\\709375803.py:6: FutureWarning: A value is trying to be set on a copy of a DataFrame or Series through chained assignment using an inplace method.\n",
      "The behavior will change in pandas 3.0. This inplace method will never work because the intermediate object on which we are setting values always behaves as a copy.\n",
      "\n",
      "For example, when doing 'df[col].method(value, inplace=True)', try using 'df.method({col: value}, inplace=True)' or df[col] = df[col].method(value) instead, to perform the operation inplace on the original object.\n",
      "\n",
      "\n",
      "  Final_df[\"Ratings\"].fillna(0,inplace=True)\n"
     ]
    }
   ],
   "source": [
    "#convert Ratings to numeric\n",
    "Final_df[\"Ratings\"]=Final_df[\"Ratings\"].str.replace(\"New\",\"\")\n",
    "Final_df[\"Ratings\"]=Final_df[\"Ratings\"].str.strip()\n",
    "Final_df[\"Ratings\"]=Final_df[\"Ratings\"].str.split().str[0]\n",
    "Final_df[\"Ratings\"] = pd.to_numeric(Final_df[\"Ratings\"], errors='coerce')\n",
    "Final_df[\"Ratings\"].fillna(0,inplace=True) "
   ]
  },
  {
   "cell_type": "code",
   "execution_count": 14,
   "metadata": {},
   "outputs": [
    {
     "name": "stdout",
     "output_type": "stream",
     "text": [
      "<class 'pandas.core.frame.DataFrame'>\n",
      "RangeIndex: 1535 entries, 0 to 1534\n",
      "Data columns (total 10 columns):\n",
      " #   Column           Non-Null Count  Dtype  \n",
      "---  ------           --------------  -----  \n",
      " 0   Bus_name         1535 non-null   object \n",
      " 1   Bus_type         1535 non-null   object \n",
      " 2   Start_time       1535 non-null   object \n",
      " 3   End_time         1535 non-null   object \n",
      " 4   Total_duration   1535 non-null   object \n",
      " 5   Price            1535 non-null   float64\n",
      " 6   Seats_Available  1535 non-null   object \n",
      " 7   Ratings          1535 non-null   float64\n",
      " 8   Route_link       1535 non-null   object \n",
      " 9   Route_name       1535 non-null   object \n",
      "dtypes: float64(2), object(8)\n",
      "memory usage: 120.1+ KB\n"
     ]
    }
   ],
   "source": [
    "# info after the data type change\n",
    "Final_df.info()"
   ]
  },
  {
   "cell_type": "code",
   "execution_count": 15,
   "metadata": {},
   "outputs": [],
   "source": [
    "Final_df = Final_df[Final_df[\"Price\"] <= 7000]"
   ]
  },
  {
   "cell_type": "code",
   "execution_count": 16,
   "metadata": {},
   "outputs": [],
   "source": [
    "# replacing the nan value\n",
    "Final_df = Final_df.replace({np.nan: None})"
   ]
  },
  {
   "cell_type": "code",
   "execution_count": 17,
   "metadata": {},
   "outputs": [],
   "source": [
    "# change dataframe to csv\n",
    "path=r\"F:\\Education and Job\\Guvi\\Redbus_M\\Busdetails_2\\Final_busdetails_df.csv\"\n",
    "Final_df.to_csv(path,index=False)"
   ]
  },
  {
   "cell_type": "markdown",
   "metadata": {},
   "source": [
    "Create a sql database"
   ]
  },
  {
   "cell_type": "code",
   "execution_count": 27,
   "metadata": {},
   "outputs": [],
   "source": [
    "#sql connection\n",
    "conn=mysql.connector.connect(host=\"127.0.0.1\", user=\"root\", password=\"samguna10\",database=\"red_bus_details\")\n",
    "my_cursor = conn.cursor()\n",
    "my_cursor.execute(\"CREATE DATABASE IF NOT EXISTS red_bus_details\")"
   ]
  },
  {
   "cell_type": "code",
   "execution_count": 28,
   "metadata": {},
   "outputs": [
    {
     "name": "stdout",
     "output_type": "stream",
     "text": [
      "Table Created successfully\n"
     ]
    }
   ],
   "source": [
    "# Table Creation\n",
    "my_cursor.execute('''\n",
    "    CREATE TABLE IF NOT EXISTS bus_details(\n",
    "        ID SERIAL PRIMARY KEY,\n",
    "        Bus_name VARCHAR(255) NOT NULL,\n",
    "        Bus_type VARCHAR(255) NOT NULL,\n",
    "        Start_time VARCHAR(255) NOT NULL,\n",
    "        End_time VARCHAR(255) NOT NULL,\n",
    "        Total_duration VARCHAR(255) NOT NULL,\n",
    "        Price FLOAT NULL,\n",
    "        Seats_Available VARCHAR(255) NOT NULL,\n",
    "        Ratings FLOAT NULL,\n",
    "        Route_link VARCHAR(255) NULL,\n",
    "        Route_name VARCHAR(255) NULL\n",
    "    )\n",
    "''')\n",
    "print(\"Table Created successfully\")"
   ]
  },
  {
   "cell_type": "code",
   "execution_count": 29,
   "metadata": {},
   "outputs": [
    {
     "name": "stdout",
     "output_type": "stream",
     "text": [
      "Values inserted successfully\n"
     ]
    }
   ],
   "source": [
    "#Postgres query to insert data into bus_details table\n",
    "insert_query = '''INSERT INTO bus_details(\n",
    "                    Bus_name,\n",
    "                    Bus_type,\n",
    "                    Start_time,\n",
    "                    End_time,\n",
    "                    Total_duration,\n",
    "                    Price,\n",
    "                    Seats_Available,\n",
    "                    Ratings,\n",
    "                    Route_link,\n",
    "                    Route_name)\n",
    "                  VALUES(%s, %s, %s, %s, %s, %s, %s, %s, %s, %s)'''\n",
    "data = Final_df.values.tolist()\n",
    "\n",
    "my_cursor.executemany(insert_query, data)\n",
    "\n",
    "conn.commit()\n",
    "\n",
    "print(\"Values inserted successfully\")"
   ]
  }
 ],
 "metadata": {
  "kernelspec": {
   "display_name": ".venv",
   "language": "python",
   "name": "python3"
  },
  "language_info": {
   "codemirror_mode": {
    "name": "ipython",
    "version": 3
   },
   "file_extension": ".py",
   "mimetype": "text/x-python",
   "name": "python",
   "nbconvert_exporter": "python",
   "pygments_lexer": "ipython3",
   "version": "3.12.7"
  }
 },
 "nbformat": 4,
 "nbformat_minor": 2
}
